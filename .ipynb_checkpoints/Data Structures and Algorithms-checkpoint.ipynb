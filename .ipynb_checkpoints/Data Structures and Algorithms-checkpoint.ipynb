{
 "cells": [
  {
   "attachments": {},
   "cell_type": "markdown",
   "id": "3fe40a75",
   "metadata": {},
   "source": [
    "# Introduction to Data Structures and Algorithms\n",
    "\n",
    "My love for data structures and algorithms started in the second stage of my Computer Science degree. The first week of doing this, I absolutely hated it..... then I spent an hour with my teacher assistant and he described it so beautifully, I could't help but spend many hours as possible on this module. Other modules suffered as a result.  \n",
    "\n",
    "**Wiki defines Data Structures as:**\n",
    "\n",
    "\"In computer science, a data structure is a data organization, management, and storage format that enables efficient access and modification. More precisely, a data structure is a collection of data values, the relationships among them, and the functions or operations that can be applied to the data, i.e., it is an algebraic structure about data.\"\n",
    "\n",
    "**And Algorithms as:**\n",
    "\n",
    "\"In mathematics and computer scien\n",
    "ce, an algorithm (/ˈælɡərɪðəm/ ) is a finite sequence of well-defined instructions, typically used to solve a class of specific problems or to perform a computation. Algorithms are used as specifications for performing calculations, data processing, automated reasoning, automated decision-making and other tasks. In contrast, a heuristic is an approach to problem solving that may not be fully specified or may not guarantee correct or optimal results, especially in problem domains where there is no well-defined correct or optimal result.\n",
    "\n",
    "As an effective method, an algorithm can be expressed within a finite amount of space and time, and in a well-defined formal language for calculating a function. Starting from an initial state and initial input (perhaps empty), the instructions describe a computation that, when executed, proceeds through a finite number of well-defined successive states, eventually producing \"output\" and terminating at a final ending state. The transition from one state to the next is not necessarily deterministic; some algorithms, known as randomized algorithms, incorporate random input.\""
   ]
  },
  {
   "cell_type": "markdown",
   "id": "85a0ec98",
   "metadata": {},
   "source": [
    "### Beauty of information\n",
    "If you want a text book definition of the subjects we will be covering, you can certainly Google it. My intension is to simplify all the articles, textboks, lines of code I read and break down these concepts down to the fewest sentences to explain them.\n",
    "\n",
    "I am creating this for myself, with this mantra:\n",
    "\n",
    "\"**Simplicity if the final achievement**. After one has played a vast quantity of notes and more notes, it is simplicity that emerges as the crowning reward of art.\""
   ]
  },
  {
   "cell_type": "markdown",
   "id": "b5a96ff1",
   "metadata": {},
   "source": [
    "### My understanding of data structures and algorithms\n",
    "\n",
    "Over the years having learnt various data strucutres and algorithms and now relearning them in further detail, the definition has become some what simpler. \n",
    "\n",
    "- We take data in the form of names, exam results or anything else.\n",
    "- Place them in a data structure.\n",
    "- Use algorithms to perform various operations on that data to achieve a certain goal. "
   ]
  },
  {
   "cell_type": "markdown",
   "id": "600c8ebe",
   "metadata": {},
   "source": [
    "### I was (and I still am trying to define) Time and Space Complexity\n",
    "... However I will give it a good shot to describe what happens when we have our data in a structure and we run our code.\n",
    "\n",
    "**Time Complexity**\n",
    "When processing our code, your mini laptop takes time to go through the data and process them. It takes time. If we use complicated codes in multiple nesting. It takes longer.\n",
    "\n",
    "I will revise this section to try and simplify this more and more. Maybe implement a good example too.\n",
    "\n",
    "**Space Complexity**\n",
    "Of course, the CPU processing matters. I tried to create a complex data structure on a million randomly generated numbers. My computer died on me, almost instantly.\n",
    "\n",
    "**Colourfully explained**, your computer may take up too much of processing space when working on your data or too much time to get your end result. Smart coding will result in less stress.\n",
    "\n",
    "See the following Google Sheet I created of time and space complexity for popular data structures, call it a cheat sheet if you will:\n",
    "https://docs.google.com/spreadsheets/d/13d9Nx6Vmx4cbxjjUR0Dm7qOUbNLe7Isv85g6c9x508s/edit?usp=sharing "
   ]
  },
  {
   "cell_type": "markdown",
   "id": "c1a891b9",
   "metadata": {},
   "source": [
    "### What you will learn from the following repo\n",
    "\n",
    "I will be initially looking at the Data Structures and this section will be updated as I continue through the development of my repo. Once completed, I will look at the algorithms.\n",
    "\n",
    "1. Stack"
   ]
  },
  {
   "cell_type": "markdown",
   "id": "78820076",
   "metadata": {},
   "source": [
    "### Key books to read\n",
    "I was taught data strucutres in Java, however I found it easier to implement data structures in either pseudocode or python in any job interview questions. If you are wondering why I am recommending the books for Java, this was my core learning materials, you can find many books that are equivillant for Python learners.\n",
    "\n",
    "1. Data Structures and Algorithms in Java by Adam Drozdek, 2nd Edition\n",
    "2. Data Structures & Problem Solving Using Java by Mark Allen Weiss, 4th Edition"
   ]
  },
  {
   "cell_type": "markdown",
   "id": "bf1ce63d",
   "metadata": {},
   "source": [
    "### Links\n",
    "My fav 2 YouTube tutorials are:\n",
    "**Algorithms and Data Structures Tutorial - Full Course for Beginners**\n",
    "https://www.youtube.com/watch?v=8hly31xKli0\n",
    "\n",
    "**Data Structures Easy to Advanced Course - Full Tutorial from a Google Engineer**\n",
    "https://www.youtube.com/watch?v=RBSGKlAvoiM\n",
    "I would recommend going to William Fiset's GitHub repo and downloading the slides for this video. It's a quick access refresher material. \n",
    "https://github.com/williamfiset/DEPRECATED-data-structures\n",
    "\n",
    "\n",
    "2 weeks in to this module, is the first video I watched on Data Structures when I was in Cambridge. This was the point where my love for pseudocode started (and also discovered CS Dojo.\n",
    "\n",
    "**Data Structures & Algorithms #1 - What Are Data Structures?**\n",
    "youtube.com/watch?v=bum_19loj9A\n",
    "\n",
    "\n",
    "**DSA Google Sheet Cheat Sheet**\n",
    "https://docs.google.com/spreadsheets/d/13d9Nx6Vmx4cbxjjUR0Dm7qOUbNLe7Isv85g6c9x508s/edit?usp=sharing\n",
    "\n",
    "**Pseudo Code Examples of DSA Problems**\n",
    "This was our university training to interview style questions\n",
    "https://docs.google.com/document/d/1ZP3kPVgpQkek4bQngspGJkHJK36Mecu2R6W3gXXdg9Q/edit?usp=sharing\n",
    "\n"
   ]
  },
  {
   "cell_type": "code",
   "execution_count": null,
   "id": "ee716cc6",
   "metadata": {},
   "outputs": [],
   "source": []
  }
 ],
 "metadata": {
  "kernelspec": {
   "display_name": "Python 3",
   "language": "python",
   "name": "python3"
  },
  "language_info": {
   "codemirror_mode": {
    "name": "ipython",
    "version": 3
   },
   "file_extension": ".py",
   "mimetype": "text/x-python",
   "name": "python",
   "nbconvert_exporter": "python",
   "pygments_lexer": "ipython3",
   "version": "3.8.8"
  }
 },
 "nbformat": 4,
 "nbformat_minor": 5
}
